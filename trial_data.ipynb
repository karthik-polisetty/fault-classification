{
 "cells": [
  {
   "cell_type": "code",
   "execution_count": 28,
   "metadata": {},
   "outputs": [
    {
     "name": "stdout",
     "output_type": "stream",
     "text": [
      "Random individual sample files saved for each label.\n"
     ]
    }
   ],
   "source": [
    "import numpy as np\n",
    "import os\n",
    "\n",
    "np.random.seed(151)\n",
    "# Load the feature and label files\n",
    "X = np.load(r\"data\\X_t.npy\")  # Features\n",
    "y_labels = np.load(r\"data\\y_t.npy\")  # Labels\n",
    "# Ensure labels are 1D\n",
    "y_labels = y_labels.flatten()\n",
    "\n",
    "# Get unique labels\n",
    "unique_labels = np.unique(y_labels)\n",
    "\n",
    "# Create a directory to store the samples\n",
    "os.makedirs(\"new_label_samples\", exist_ok=True)\n",
    "\n",
    "# Define how many samples per label to save\n",
    "num_samples = 5  # Change as needed\n",
    "\n",
    "for label in unique_labels:\n",
    "    # Get indices of samples belonging to this label\n",
    "    indices = np.where(y_labels == label)[0]\n",
    "    \n",
    "    # Randomly select `num_samples` examples (without replacement)\n",
    "    if len(indices) > num_samples:\n",
    "        selected_indices = np.random.choice(indices, num_samples, replace=False)\n",
    "    else:\n",
    "        selected_indices = indices  # If fewer than `num_samples`, take all\n",
    "\n",
    "    if label == 0:\n",
    "        cond = 'normal'\n",
    "    elif label == 1:\n",
    "        cond = 'imbalance'\n",
    "    elif label == 2:\n",
    "        cond = 'misalignment'\n",
    "    elif label == 3:\n",
    "        cond = 'bearing'\n",
    "\n",
    "    # Save each selected sample as a separate .npy file\n",
    "    for i, idx in enumerate(selected_indices):\n",
    "        sample = X[idx]  # Extract individual sample\n",
    "        np.save(f\"new_label_samples/{cond}_sample_{i}.npy\", sample)\n",
    "\n",
    "print(\"Random individual sample files saved for each label.\")\n"
   ]
  }
 ],
 "metadata": {
  "kernelspec": {
   "display_name": "base",
   "language": "python",
   "name": "python3"
  },
  "language_info": {
   "codemirror_mode": {
    "name": "ipython",
    "version": 3
   },
   "file_extension": ".py",
   "mimetype": "text/x-python",
   "name": "python",
   "nbconvert_exporter": "python",
   "pygments_lexer": "ipython3",
   "version": "3.12.7"
  }
 },
 "nbformat": 4,
 "nbformat_minor": 2
}
